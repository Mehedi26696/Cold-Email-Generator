{
 "cells": [
  {
   "cell_type": "code",
   "execution_count": 1,
   "id": "7d2bcfd1-45e4-408b-8e69-e326f87fc57a",
   "metadata": {},
   "outputs": [],
   "source": [
    "import chromadb"
   ]
  },
  {
   "cell_type": "code",
   "execution_count": 2,
   "id": "0d31a1c7-e2c9-4bf4-8ecf-1c36b372700c",
   "metadata": {},
   "outputs": [],
   "source": [
    "client = chromadb.Client()\n",
    "collection = client.create_collection(name=\"my_collection\",get_or_create=True)"
   ]
  },
  {
   "cell_type": "code",
   "execution_count": 3,
   "id": "3fa6df1c-f42a-4cbc-8acb-9ef1f332ec71",
   "metadata": {},
   "outputs": [],
   "source": [
    "collection.add(\n",
    "    documents=[\n",
    "        \"This is first document\",\n",
    "        \"This is second document\"\n",
    "    ],\n",
    "\n",
    "    ids = [\"id1\",\"id2\"]\n",
    ")"
   ]
  },
  {
   "cell_type": "code",
   "execution_count": 4,
   "id": "96a1681a-b59d-4e8c-8937-b7c70ecec049",
   "metadata": {},
   "outputs": [
    {
     "data": {
      "text/plain": [
       "{'ids': ['id1', 'id2'],\n",
       " 'embeddings': None,\n",
       " 'documents': ['This is first document', 'This is second document'],\n",
       " 'uris': None,\n",
       " 'included': ['metadatas', 'documents'],\n",
       " 'data': None,\n",
       " 'metadatas': [None, None]}"
      ]
     },
     "execution_count": 4,
     "metadata": {},
     "output_type": "execute_result"
    }
   ],
   "source": [
    "all_docs = collection.get()\n",
    "all_docs"
   ]
  },
  {
   "cell_type": "code",
   "execution_count": 5,
   "id": "c4666466-a02d-4105-ab2f-92b19b9edad7",
   "metadata": {},
   "outputs": [
    {
     "data": {
      "text/plain": [
       "{'ids': ['id1'],\n",
       " 'embeddings': None,\n",
       " 'documents': ['This is first document'],\n",
       " 'uris': None,\n",
       " 'included': ['metadatas', 'documents'],\n",
       " 'data': None,\n",
       " 'metadatas': [None]}"
      ]
     },
     "execution_count": 5,
     "metadata": {},
     "output_type": "execute_result"
    }
   ],
   "source": [
    "docs = collection.get(ids=[\"id1\"])\n",
    "docs"
   ]
  },
  {
   "cell_type": "code",
   "execution_count": 6,
   "id": "70b3824c-4a21-4df5-8814-727334047726",
   "metadata": {},
   "outputs": [],
   "source": [
    "collection2 = client.create_collection(name=\"new_collection\",get_or_create=True)"
   ]
  },
  {
   "cell_type": "code",
   "execution_count": 7,
   "id": "5cfabf44-2b41-49e1-bc3c-fd6456e2046f",
   "metadata": {},
   "outputs": [],
   "source": [
    "collection2.add(\n",
    "    documents=[\n",
    "        \"This is document about dhaka\",\n",
    "        \"This is document about new york\"\n",
    "    ],\n",
    "\n",
    "    ids = [\"id1\",\"id2\"]\n",
    ")"
   ]
  },
  {
   "cell_type": "code",
   "execution_count": 8,
   "id": "1d85f992-6daa-4765-8863-a3bebc78d86f",
   "metadata": {},
   "outputs": [
    {
     "data": {
      "text/plain": [
       "{'ids': ['id1', 'id2'],\n",
       " 'embeddings': None,\n",
       " 'documents': ['This is document about dhaka',\n",
       "  'This is document about new york'],\n",
       " 'uris': None,\n",
       " 'included': ['metadatas', 'documents'],\n",
       " 'data': None,\n",
       " 'metadatas': [None, None]}"
      ]
     },
     "execution_count": 8,
     "metadata": {},
     "output_type": "execute_result"
    }
   ],
   "source": [
    "documents = collection2.get()\n",
    "documents"
   ]
  },
  {
   "cell_type": "code",
   "execution_count": 9,
   "id": "96d28fad-c64f-428e-a513-278c32e5a265",
   "metadata": {},
   "outputs": [],
   "source": [
    "results = collection2.query(\n",
    "    query_texts = [\"Query is about biriyani\"],\n",
    "    n_results = 2\n",
    ")"
   ]
  },
  {
   "cell_type": "code",
   "execution_count": 10,
   "id": "6030df21-7424-4af3-aa80-b419c1c2048b",
   "metadata": {},
   "outputs": [
    {
     "data": {
      "text/plain": [
       "{'ids': [['id1', 'id2']],\n",
       " 'embeddings': None,\n",
       " 'documents': [['This is document about dhaka',\n",
       "   'This is document about new york']],\n",
       " 'uris': None,\n",
       " 'included': ['metadatas', 'documents', 'distances'],\n",
       " 'data': None,\n",
       " 'metadatas': [[None, None]],\n",
       " 'distances': [[1.4278523921966553, 1.7706388235092163]]}"
      ]
     },
     "execution_count": 10,
     "metadata": {},
     "output_type": "execute_result"
    }
   ],
   "source": [
    "results"
   ]
  },
  {
   "cell_type": "code",
   "execution_count": 11,
   "id": "2c6bfecd-dc2d-42e5-a7f4-22964851a711",
   "metadata": {},
   "outputs": [],
   "source": [
    "results2 = collection2.query(\n",
    "    query_texts = [\"Query is about Brooklyn bridge\"],\n",
    "    n_results = 2\n",
    ")"
   ]
  },
  {
   "cell_type": "code",
   "execution_count": 12,
   "id": "d4474d91-7b1e-41b1-84ee-bcc9ea622119",
   "metadata": {},
   "outputs": [
    {
     "data": {
      "text/plain": [
       "{'ids': [['id2', 'id1']],\n",
       " 'embeddings': None,\n",
       " 'documents': [['This is document about new york',\n",
       "   'This is document about dhaka']],\n",
       " 'uris': None,\n",
       " 'included': ['metadatas', 'documents', 'distances'],\n",
       " 'data': None,\n",
       " 'metadatas': [[None, None]],\n",
       " 'distances': [[1.0801445245742798, 1.7557740211486816]]}"
      ]
     },
     "execution_count": 12,
     "metadata": {},
     "output_type": "execute_result"
    }
   ],
   "source": [
    "results2"
   ]
  },
  {
   "cell_type": "code",
   "execution_count": 13,
   "id": "b816a486-5678-441f-b2f8-ff6028caf5ad",
   "metadata": {},
   "outputs": [
    {
     "data": {
      "text/plain": [
       "{'ids': [],\n",
       " 'embeddings': None,\n",
       " 'documents': [],\n",
       " 'uris': None,\n",
       " 'included': ['metadatas', 'documents'],\n",
       " 'data': None,\n",
       " 'metadatas': []}"
      ]
     },
     "execution_count": 13,
     "metadata": {},
     "output_type": "execute_result"
    }
   ],
   "source": [
    "collection.delete(ids=all_docs[\"ids\"])\n",
    "collection.get()"
   ]
  },
  {
   "cell_type": "code",
   "execution_count": 15,
   "id": "813a118e-98a6-4d11-980f-337b9dde9a37",
   "metadata": {},
   "outputs": [],
   "source": [
    "collection3 = client.create_collection(name=\"meta_collection\",get_or_create=True)"
   ]
  },
  {
   "cell_type": "code",
   "execution_count": 16,
   "id": "8239669d-9043-40c8-bb72-58b4b514ea21",
   "metadata": {},
   "outputs": [],
   "source": [
    "collection3.add(\n",
    "    documents=[\n",
    "        \"This is document about dhaka\",\n",
    "        \"This is document about new york\"\n",
    "    ],\n",
    "\n",
    "    ids = [\"id3\",\"id4\"],\n",
    "    metadatas = [\n",
    "        {\"url\": \"https://en.wikipedia.org/wiki/Dhaka\"},\n",
    "        {\"url\": \"https://en.wikipedia.org/wiki/New_York_City\"}\n",
    "    ]\n",
    ")"
   ]
  },
  {
   "cell_type": "code",
   "execution_count": 19,
   "id": "8d2834c6-8a45-4fe8-91b1-98adc432d123",
   "metadata": {},
   "outputs": [],
   "source": [
    "res = collection3.query(\n",
    "    query_texts = [\"Query is about Padma\"],\n",
    "    n_results = 2\n",
    ")"
   ]
  },
  {
   "cell_type": "code",
   "execution_count": 20,
   "id": "b3e0024f-6398-458b-8ce7-03e789776838",
   "metadata": {},
   "outputs": [
    {
     "data": {
      "text/plain": [
       "{'ids': [['id3', 'id4']],\n",
       " 'embeddings': None,\n",
       " 'documents': [['This is document about dhaka',\n",
       "   'This is document about new york']],\n",
       " 'uris': None,\n",
       " 'included': ['metadatas', 'documents', 'distances'],\n",
       " 'data': None,\n",
       " 'metadatas': [[{'url': 'https://en.wikipedia.org/wiki/Dhaka'},\n",
       "   {'url': 'https://en.wikipedia.org/wiki/New_York_City'}]],\n",
       " 'distances': [[1.0168200731277466, 1.6674803495407104]]}"
      ]
     },
     "execution_count": 20,
     "metadata": {},
     "output_type": "execute_result"
    }
   ],
   "source": [
    "res"
   ]
  },
  {
   "cell_type": "code",
   "execution_count": null,
   "id": "bab37b49-ec1e-4e02-a0dd-5a5a75fbcafa",
   "metadata": {},
   "outputs": [],
   "source": []
  }
 ],
 "metadata": {
  "kernelspec": {
   "display_name": "Python 3.10 (TensorFlow)",
   "language": "python",
   "name": "python310"
  },
  "language_info": {
   "codemirror_mode": {
    "name": "ipython",
    "version": 3
   },
   "file_extension": ".py",
   "mimetype": "text/x-python",
   "name": "python",
   "nbconvert_exporter": "python",
   "pygments_lexer": "ipython3",
   "version": "3.10.11"
  }
 },
 "nbformat": 4,
 "nbformat_minor": 5
}
